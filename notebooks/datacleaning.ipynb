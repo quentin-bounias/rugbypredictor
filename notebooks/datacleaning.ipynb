{
 "cells": [
  {
   "cell_type": "markdown",
   "metadata": {},
   "source": [
    "# Imports"
   ]
  },
  {
   "cell_type": "code",
   "execution_count": 1,
   "metadata": {},
   "outputs": [],
   "source": [
    "import pandas as pd"
   ]
  },
  {
   "cell_type": "markdown",
   "metadata": {},
   "source": [
    "# Constants"
   ]
  },
  {
   "cell_type": "code",
   "execution_count": 10,
   "metadata": {},
   "outputs": [],
   "source": [
    "DATA_PATH_ROOT = '../data/'\n",
    "INTERNATIONAL_FILE = 'international_rugby_results.csv'"
   ]
  },
  {
   "cell_type": "markdown",
   "metadata": {},
   "source": [
    "# Run"
   ]
  },
  {
   "cell_type": "code",
   "execution_count": 16,
   "metadata": {},
   "outputs": [],
   "source": [
    "df = pd.read_csv(DATA_PATH_ROOT + INTERNATIONAL_FILE)"
   ]
  },
  {
   "cell_type": "code",
   "execution_count": 17,
   "metadata": {},
   "outputs": [
    {
     "data": {
      "text/html": [
       "<div>\n",
       "<style scoped>\n",
       "    .dataframe tbody tr th:only-of-type {\n",
       "        vertical-align: middle;\n",
       "    }\n",
       "\n",
       "    .dataframe tbody tr th {\n",
       "        vertical-align: top;\n",
       "    }\n",
       "\n",
       "    .dataframe thead th {\n",
       "        text-align: right;\n",
       "    }\n",
       "</style>\n",
       "<table border=\"1\" class=\"dataframe\">\n",
       "  <thead>\n",
       "    <tr style=\"text-align: right;\">\n",
       "      <th></th>\n",
       "      <th>date</th>\n",
       "      <th>home_team</th>\n",
       "      <th>away_team</th>\n",
       "      <th>home_score</th>\n",
       "      <th>away_score</th>\n",
       "      <th>competition</th>\n",
       "      <th>stadium</th>\n",
       "      <th>city</th>\n",
       "      <th>country</th>\n",
       "      <th>neutral</th>\n",
       "      <th>world_cup</th>\n",
       "    </tr>\n",
       "  </thead>\n",
       "  <tbody>\n",
       "    <tr>\n",
       "      <th>2778</th>\n",
       "      <td>2024-07-13</td>\n",
       "      <td>Argentina</td>\n",
       "      <td>France</td>\n",
       "      <td>33</td>\n",
       "      <td>25</td>\n",
       "      <td>2024 France tour of Argentina</td>\n",
       "      <td>José Amalfitani Stadium</td>\n",
       "      <td>Buenos Aires</td>\n",
       "      <td>Argentina</td>\n",
       "      <td>False</td>\n",
       "      <td>False</td>\n",
       "    </tr>\n",
       "    <tr>\n",
       "      <th>2779</th>\n",
       "      <td>2024-08-10</td>\n",
       "      <td>Australia</td>\n",
       "      <td>South Africa</td>\n",
       "      <td>7</td>\n",
       "      <td>33</td>\n",
       "      <td>2024 Rugby Championship</td>\n",
       "      <td>Suncorp Stadium</td>\n",
       "      <td>Brisbane</td>\n",
       "      <td>Australia</td>\n",
       "      <td>False</td>\n",
       "      <td>False</td>\n",
       "    </tr>\n",
       "    <tr>\n",
       "      <th>2780</th>\n",
       "      <td>2024-08-10</td>\n",
       "      <td>New Zealand</td>\n",
       "      <td>Argentina</td>\n",
       "      <td>30</td>\n",
       "      <td>38</td>\n",
       "      <td>2024 Rugby Championship</td>\n",
       "      <td>Wellington Regional Stadium</td>\n",
       "      <td>Wellington</td>\n",
       "      <td>New Zealand</td>\n",
       "      <td>False</td>\n",
       "      <td>False</td>\n",
       "    </tr>\n",
       "    <tr>\n",
       "      <th>2781</th>\n",
       "      <td>2024-08-17</td>\n",
       "      <td>New Zealand</td>\n",
       "      <td>Argentina</td>\n",
       "      <td>42</td>\n",
       "      <td>10</td>\n",
       "      <td>2024 Rugby Championship</td>\n",
       "      <td>Eden Park</td>\n",
       "      <td>Auckland</td>\n",
       "      <td>New Zealand</td>\n",
       "      <td>True</td>\n",
       "      <td>False</td>\n",
       "    </tr>\n",
       "    <tr>\n",
       "      <th>2782</th>\n",
       "      <td>2024-08-17</td>\n",
       "      <td>Australia</td>\n",
       "      <td>South Africa</td>\n",
       "      <td>12</td>\n",
       "      <td>30</td>\n",
       "      <td>2024 Rugby Championship</td>\n",
       "      <td>Optus Stadium</td>\n",
       "      <td>Perth</td>\n",
       "      <td>Australia</td>\n",
       "      <td>False</td>\n",
       "      <td>False</td>\n",
       "    </tr>\n",
       "  </tbody>\n",
       "</table>\n",
       "</div>"
      ],
      "text/plain": [
       "            date    home_team     away_team  home_score  away_score  \\\n",
       "2778  2024-07-13    Argentina        France          33          25   \n",
       "2779  2024-08-10    Australia  South Africa           7          33   \n",
       "2780  2024-08-10  New Zealand     Argentina          30          38   \n",
       "2781  2024-08-17  New Zealand     Argentina          42          10   \n",
       "2782  2024-08-17    Australia  South Africa          12          30   \n",
       "\n",
       "                        competition                      stadium  \\\n",
       "2778  2024 France tour of Argentina      José Amalfitani Stadium   \n",
       "2779        2024 Rugby Championship              Suncorp Stadium   \n",
       "2780        2024 Rugby Championship  Wellington Regional Stadium   \n",
       "2781        2024 Rugby Championship                    Eden Park   \n",
       "2782        2024 Rugby Championship                Optus Stadium   \n",
       "\n",
       "              city      country  neutral  world_cup  \n",
       "2778  Buenos Aires    Argentina    False      False  \n",
       "2779      Brisbane    Australia    False      False  \n",
       "2780    Wellington  New Zealand    False      False  \n",
       "2781      Auckland  New Zealand     True      False  \n",
       "2782         Perth    Australia    False      False  "
      ]
     },
     "execution_count": 17,
     "metadata": {},
     "output_type": "execute_result"
    }
   ],
   "source": [
    "df.tail()"
   ]
  },
  {
   "cell_type": "code",
   "execution_count": 19,
   "metadata": {},
   "outputs": [
    {
     "data": {
      "text/html": [
       "<div>\n",
       "<style scoped>\n",
       "    .dataframe tbody tr th:only-of-type {\n",
       "        vertical-align: middle;\n",
       "    }\n",
       "\n",
       "    .dataframe tbody tr th {\n",
       "        vertical-align: top;\n",
       "    }\n",
       "\n",
       "    .dataframe thead th {\n",
       "        text-align: right;\n",
       "    }\n",
       "</style>\n",
       "<table border=\"1\" class=\"dataframe\">\n",
       "  <thead>\n",
       "    <tr style=\"text-align: right;\">\n",
       "      <th></th>\n",
       "      <th>home_score</th>\n",
       "      <th>away_score</th>\n",
       "    </tr>\n",
       "  </thead>\n",
       "  <tbody>\n",
       "    <tr>\n",
       "      <th>count</th>\n",
       "      <td>2783.000000</td>\n",
       "      <td>2783.000000</td>\n",
       "    </tr>\n",
       "    <tr>\n",
       "      <th>mean</th>\n",
       "      <td>18.806324</td>\n",
       "      <td>15.637082</td>\n",
       "    </tr>\n",
       "    <tr>\n",
       "      <th>std</th>\n",
       "      <td>13.411217</td>\n",
       "      <td>11.439640</td>\n",
       "    </tr>\n",
       "    <tr>\n",
       "      <th>min</th>\n",
       "      <td>0.000000</td>\n",
       "      <td>0.000000</td>\n",
       "    </tr>\n",
       "    <tr>\n",
       "      <th>25%</th>\n",
       "      <td>9.000000</td>\n",
       "      <td>7.000000</td>\n",
       "    </tr>\n",
       "    <tr>\n",
       "      <th>50%</th>\n",
       "      <td>17.000000</td>\n",
       "      <td>14.000000</td>\n",
       "    </tr>\n",
       "    <tr>\n",
       "      <th>75%</th>\n",
       "      <td>26.000000</td>\n",
       "      <td>21.000000</td>\n",
       "    </tr>\n",
       "    <tr>\n",
       "      <th>max</th>\n",
       "      <td>101.000000</td>\n",
       "      <td>70.000000</td>\n",
       "    </tr>\n",
       "  </tbody>\n",
       "</table>\n",
       "</div>"
      ],
      "text/plain": [
       "        home_score   away_score\n",
       "count  2783.000000  2783.000000\n",
       "mean     18.806324    15.637082\n",
       "std      13.411217    11.439640\n",
       "min       0.000000     0.000000\n",
       "25%       9.000000     7.000000\n",
       "50%      17.000000    14.000000\n",
       "75%      26.000000    21.000000\n",
       "max     101.000000    70.000000"
      ]
     },
     "execution_count": 19,
     "metadata": {},
     "output_type": "execute_result"
    }
   ],
   "source": [
    "df.describe()"
   ]
  },
  {
   "cell_type": "code",
   "execution_count": 18,
   "metadata": {},
   "outputs": [
    {
     "name": "stdout",
     "output_type": "stream",
     "text": [
      "date            0\n",
      "home_team       0\n",
      "away_team       0\n",
      "home_score      0\n",
      "away_score      0\n",
      "competition    23\n",
      "stadium         0\n",
      "city            0\n",
      "country         0\n",
      "neutral         0\n",
      "world_cup       0\n",
      "dtype: int64\n"
     ]
    }
   ],
   "source": [
    "print(df.isnull().sum())"
   ]
  },
  {
   "cell_type": "code",
   "execution_count": 30,
   "metadata": {},
   "outputs": [],
   "source": [
    "# ensure date data is real date\n",
    "df['date'] = pd.to_datetime(df['date'])"
   ]
  },
  {
   "cell_type": "code",
   "execution_count": 32,
   "metadata": {},
   "outputs": [
    {
     "name": "stdout",
     "output_type": "stream",
     "text": [
      "70\n",
      "0\n",
      "101\n",
      "0\n"
     ]
    }
   ],
   "source": [
    "print(df['away_score'].max())\n",
    "print(df['away_score'].min())\n",
    "print(df['home_score'].max())\n",
    "print(df['home_score'].min())\n"
   ]
  },
  {
   "cell_type": "code",
   "execution_count": 33,
   "metadata": {},
   "outputs": [
    {
     "name": "stdout",
     "output_type": "stream",
     "text": [
      "home_score_bins\n",
      "(0, 7]       437\n",
      "(7, 14]      612\n",
      "(14, 21]     604\n",
      "(21, 28]     436\n",
      "(28, 35]     287\n",
      "(35, 42]     134\n",
      "(42, 49]      64\n",
      "(49, 56]      35\n",
      "(56, 63]      27\n",
      "(63, 70]      10\n",
      "(70, 77]       4\n",
      "(77, 84]       1\n",
      "(84, 91]       0\n",
      "(91, 98]       3\n",
      "(98, 105]      2\n",
      "Name: count, dtype: int64\n",
      "away_score_bins\n",
      "(0, 7]       517\n",
      "(7, 14]      758\n",
      "(14, 21]     626\n",
      "(21, 28]     330\n",
      "(28, 35]     187\n",
      "(35, 42]      92\n",
      "(42, 49]      42\n",
      "(49, 56]      27\n",
      "(56, 63]      10\n",
      "(63, 70]       4\n",
      "(70, 77]       0\n",
      "(77, 84]       0\n",
      "(84, 91]       0\n",
      "(91, 98]       0\n",
      "(98, 105]      0\n",
      "Name: count, dtype: int64\n"
     ]
    }
   ],
   "source": [
    "bins = range(0, df[['home_score', 'away_score']].max().max() + 7, 7)\n",
    "\n",
    "df['home_score_bins'] = pd.cut(df['home_score'], bins=bins, right=True)\n",
    "df['away_score_bins'] = pd.cut(df['away_score'], bins=bins, right=True)\n",
    "\n",
    "home_score_counts = df['home_score_bins'].value_counts().sort_index()\n",
    "away_score_counts = df['away_score_bins'].value_counts().sort_index()\n",
    "\n",
    "print(home_score_counts)\n",
    "print(away_score_counts)"
   ]
  },
  {
   "cell_type": "markdown",
   "metadata": {},
   "source": [
    "# Feature engineering"
   ]
  },
  {
   "cell_type": "markdown",
   "metadata": {},
   "source": [
    "Create a binary feature (home_advantage) that indicates whether the match was played at home or away. This can be helpful because home teams often have an advantage."
   ]
  },
  {
   "cell_type": "code",
   "execution_count": 37,
   "metadata": {},
   "outputs": [],
   "source": [
    "df['home_advantage'] = 1  # Since all home teams have the advantage in this dataset"
   ]
  },
  {
   "cell_type": "markdown",
   "metadata": {},
   "source": [
    "Calculate each team’s recent form, i.e., how well a team performed in its last few matches (e.g., win/loss streak)."
   ]
  },
  {
   "cell_type": "code",
   "execution_count": 39,
   "metadata": {},
   "outputs": [],
   "source": [
    "# Rolling average of home team performance over last 5 matches\n",
    "df['home_team_recent5_score'] = df.groupby('home_team')['home_score'].rolling(5, min_periods=1).mean().reset_index(level=0, drop=True)\n",
    "# Rolling average of away team performance over last 5 matches\n",
    "df['away_team_recent5_score'] = df.groupby('away_team')['away_score'].rolling(5, min_periods=1).mean().reset_index(level=0, drop=True)"
   ]
  },
  {
   "cell_type": "code",
   "execution_count": 40,
   "metadata": {},
   "outputs": [
    {
     "data": {
      "text/html": [
       "<div>\n",
       "<style scoped>\n",
       "    .dataframe tbody tr th:only-of-type {\n",
       "        vertical-align: middle;\n",
       "    }\n",
       "\n",
       "    .dataframe tbody tr th {\n",
       "        vertical-align: top;\n",
       "    }\n",
       "\n",
       "    .dataframe thead th {\n",
       "        text-align: right;\n",
       "    }\n",
       "</style>\n",
       "<table border=\"1\" class=\"dataframe\">\n",
       "  <thead>\n",
       "    <tr style=\"text-align: right;\">\n",
       "      <th></th>\n",
       "      <th>date</th>\n",
       "      <th>home_team</th>\n",
       "      <th>away_team</th>\n",
       "      <th>home_score</th>\n",
       "      <th>away_score</th>\n",
       "      <th>competition</th>\n",
       "      <th>stadium</th>\n",
       "      <th>city</th>\n",
       "      <th>country</th>\n",
       "      <th>neutral</th>\n",
       "      <th>world_cup</th>\n",
       "      <th>home_score_bins</th>\n",
       "      <th>away_score_bins</th>\n",
       "      <th>home_advantage</th>\n",
       "      <th>home_team_recent5_score</th>\n",
       "      <th>away_team_recent5_score</th>\n",
       "    </tr>\n",
       "  </thead>\n",
       "  <tbody>\n",
       "    <tr>\n",
       "      <th>2778</th>\n",
       "      <td>2024-07-13</td>\n",
       "      <td>Argentina</td>\n",
       "      <td>France</td>\n",
       "      <td>33</td>\n",
       "      <td>25</td>\n",
       "      <td>2024 France tour of Argentina</td>\n",
       "      <td>José Amalfitani Stadium</td>\n",
       "      <td>Buenos Aires</td>\n",
       "      <td>Argentina</td>\n",
       "      <td>False</td>\n",
       "      <td>False</td>\n",
       "      <td>(28, 35]</td>\n",
       "      <td>(21, 28]</td>\n",
       "      <td>1</td>\n",
       "      <td>17.6</td>\n",
       "      <td>27.8</td>\n",
       "    </tr>\n",
       "    <tr>\n",
       "      <th>2779</th>\n",
       "      <td>2024-08-10</td>\n",
       "      <td>Australia</td>\n",
       "      <td>South Africa</td>\n",
       "      <td>7</td>\n",
       "      <td>33</td>\n",
       "      <td>2024 Rugby Championship</td>\n",
       "      <td>Suncorp Stadium</td>\n",
       "      <td>Brisbane</td>\n",
       "      <td>Australia</td>\n",
       "      <td>False</td>\n",
       "      <td>False</td>\n",
       "      <td>(0, 7]</td>\n",
       "      <td>(28, 35]</td>\n",
       "      <td>1</td>\n",
       "      <td>21.2</td>\n",
       "      <td>26.2</td>\n",
       "    </tr>\n",
       "    <tr>\n",
       "      <th>2780</th>\n",
       "      <td>2024-08-10</td>\n",
       "      <td>New Zealand</td>\n",
       "      <td>Argentina</td>\n",
       "      <td>30</td>\n",
       "      <td>38</td>\n",
       "      <td>2024 Rugby Championship</td>\n",
       "      <td>Wellington Regional Stadium</td>\n",
       "      <td>Wellington</td>\n",
       "      <td>New Zealand</td>\n",
       "      <td>False</td>\n",
       "      <td>False</td>\n",
       "      <td>(28, 35]</td>\n",
       "      <td>(35, 42]</td>\n",
       "      <td>1</td>\n",
       "      <td>35.4</td>\n",
       "      <td>26.4</td>\n",
       "    </tr>\n",
       "    <tr>\n",
       "      <th>2781</th>\n",
       "      <td>2024-08-17</td>\n",
       "      <td>New Zealand</td>\n",
       "      <td>Argentina</td>\n",
       "      <td>42</td>\n",
       "      <td>10</td>\n",
       "      <td>2024 Rugby Championship</td>\n",
       "      <td>Eden Park</td>\n",
       "      <td>Auckland</td>\n",
       "      <td>New Zealand</td>\n",
       "      <td>True</td>\n",
       "      <td>False</td>\n",
       "      <td>(35, 42]</td>\n",
       "      <td>(7, 14]</td>\n",
       "      <td>1</td>\n",
       "      <td>24.6</td>\n",
       "      <td>21.6</td>\n",
       "    </tr>\n",
       "    <tr>\n",
       "      <th>2782</th>\n",
       "      <td>2024-08-17</td>\n",
       "      <td>Australia</td>\n",
       "      <td>South Africa</td>\n",
       "      <td>12</td>\n",
       "      <td>30</td>\n",
       "      <td>2024 Rugby Championship</td>\n",
       "      <td>Optus Stadium</td>\n",
       "      <td>Perth</td>\n",
       "      <td>Australia</td>\n",
       "      <td>False</td>\n",
       "      <td>False</td>\n",
       "      <td>(7, 14]</td>\n",
       "      <td>(28, 35]</td>\n",
       "      <td>1</td>\n",
       "      <td>17.4</td>\n",
       "      <td>26.4</td>\n",
       "    </tr>\n",
       "  </tbody>\n",
       "</table>\n",
       "</div>"
      ],
      "text/plain": [
       "           date    home_team     away_team  home_score  away_score  \\\n",
       "2778 2024-07-13    Argentina        France          33          25   \n",
       "2779 2024-08-10    Australia  South Africa           7          33   \n",
       "2780 2024-08-10  New Zealand     Argentina          30          38   \n",
       "2781 2024-08-17  New Zealand     Argentina          42          10   \n",
       "2782 2024-08-17    Australia  South Africa          12          30   \n",
       "\n",
       "                        competition                      stadium  \\\n",
       "2778  2024 France tour of Argentina      José Amalfitani Stadium   \n",
       "2779        2024 Rugby Championship              Suncorp Stadium   \n",
       "2780        2024 Rugby Championship  Wellington Regional Stadium   \n",
       "2781        2024 Rugby Championship                    Eden Park   \n",
       "2782        2024 Rugby Championship                Optus Stadium   \n",
       "\n",
       "              city      country  neutral  world_cup home_score_bins  \\\n",
       "2778  Buenos Aires    Argentina    False      False        (28, 35]   \n",
       "2779      Brisbane    Australia    False      False          (0, 7]   \n",
       "2780    Wellington  New Zealand    False      False        (28, 35]   \n",
       "2781      Auckland  New Zealand     True      False        (35, 42]   \n",
       "2782         Perth    Australia    False      False         (7, 14]   \n",
       "\n",
       "     away_score_bins  home_advantage  home_team_recent5_score  \\\n",
       "2778        (21, 28]               1                     17.6   \n",
       "2779        (28, 35]               1                     21.2   \n",
       "2780        (35, 42]               1                     35.4   \n",
       "2781         (7, 14]               1                     24.6   \n",
       "2782        (28, 35]               1                     17.4   \n",
       "\n",
       "      away_team_recent5_score  \n",
       "2778                     27.8  \n",
       "2779                     26.2  \n",
       "2780                     26.4  \n",
       "2781                     21.6  \n",
       "2782                     26.4  "
      ]
     },
     "execution_count": 40,
     "metadata": {},
     "output_type": "execute_result"
    }
   ],
   "source": [
    "df.tail()"
   ]
  },
  {
   "cell_type": "code",
   "execution_count": 41,
   "metadata": {},
   "outputs": [],
   "source": [
    "# DataFrame for home teams\n",
    "home_df = df[['date', 'home_team', 'home_score']].copy()\n",
    "home_df.rename(columns={'home_team': 'team', 'home_score': 'score'}, inplace=True)\n",
    "\n",
    "# DataFrame for away teams\n",
    "away_df = df[['date', 'away_team', 'away_score']].copy()\n",
    "away_df.rename(columns={'away_team': 'team', 'away_score': 'score'}, inplace=True)"
   ]
  },
  {
   "cell_type": "code",
   "execution_count": 42,
   "metadata": {},
   "outputs": [],
   "source": [
    "# Combine both DataFrames (home and away scores for each team)\n",
    "combined_df = pd.concat([home_df, away_df])\n",
    "\n",
    "# Sort by team and date\n",
    "combined_df.sort_values(by=['team', 'date'], inplace=True)"
   ]
  },
  {
   "cell_type": "code",
   "execution_count": 44,
   "metadata": {},
   "outputs": [],
   "source": [
    "# Calculate rolling average for each team (considering both home and away matches)\n",
    "combined_df['team_recent_score'] = combined_df.groupby('team')['score'].rolling(5, min_periods=1).mean().reset_index(level=0, drop=True)"
   ]
  },
  {
   "cell_type": "code",
   "execution_count": 46,
   "metadata": {},
   "outputs": [],
   "source": [
    "# Merge the recent score back into the original DataFrame\n",
    "df = pd.merge(df, combined_df[['date', 'team', 'team_recent_score']], \n",
    "              how='left', left_on=['date', 'home_team'], right_on=['date', 'team'])\n",
    "\n",
    "df.rename(columns={'team_recent_score': 'home_team_recent_score'}, inplace=True)\n",
    "\n",
    "df = pd.merge(df, combined_df[['date', 'team', 'team_recent_score']], \n",
    "              how='left', left_on=['date', 'away_team'], right_on=['date', 'team'])\n",
    "\n",
    "df.rename(columns={'team_recent_score': 'away_team_recent_score'}, inplace=True)"
   ]
  },
  {
   "cell_type": "code",
   "execution_count": 48,
   "metadata": {},
   "outputs": [],
   "source": [
    "# Drop the extra 'team' columns from merging\n",
    "df.drop(columns=['team_x', 'team_y'], inplace=True)\n"
   ]
  },
  {
   "cell_type": "code",
   "execution_count": null,
   "metadata": {},
   "outputs": [],
   "source": []
  }
 ],
 "metadata": {
  "kernelspec": {
   "display_name": "Python 3",
   "language": "python",
   "name": "python3"
  },
  "language_info": {
   "codemirror_mode": {
    "name": "ipython",
    "version": 3
   },
   "file_extension": ".py",
   "mimetype": "text/x-python",
   "name": "python",
   "nbconvert_exporter": "python",
   "pygments_lexer": "ipython3",
   "version": "3.11.4"
  }
 },
 "nbformat": 4,
 "nbformat_minor": 2
}
